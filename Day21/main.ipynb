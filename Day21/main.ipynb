{
 "cells": [
  {
   "cell_type": "code",
   "execution_count": 45,
   "metadata": {},
   "outputs": [],
   "source": [
    "'''Player 1 starting position: 7\n",
    "Player 2 starting position: 6'''\n",
    "init_1 = 7\n",
    "init_2 = 6"
   ]
  },
  {
   "cell_type": "code",
   "execution_count": 53,
   "metadata": {},
   "outputs": [],
   "source": [
    "scores = {\n",
    "    \"number\" : 1,\n",
    "    \"player1\":{\n",
    "        \"pos\": init_1,\n",
    "        \"score\" : 0\n",
    "    },\n",
    "    \"player2\":{\n",
    "        \"pos\": init_2,\n",
    "        \"score\" : 0\n",
    "    },\n",
    "}"
   ]
  },
  {
   "cell_type": "code",
   "execution_count": 54,
   "metadata": {},
   "outputs": [],
   "source": [
    "def step(players):\n",
    "    number = players[\"number\"]\n",
    "    #print(number)\n",
    "    players[\"player1\"][\"pos\"] += 3*number + 3\n",
    "    players[\"player1\"][\"pos\"] = 10 if players[\"player1\"][\"pos\"]% 10 == 0 else players[\"player1\"][\"pos\"]% 10\n",
    "    players[\"player1\"][\"score\"] += players[\"player1\"][\"pos\"]\n",
    "    players[\"number\"] = number + 3\n",
    "    number = players[\"number\"]\n",
    "    #print(players)\n",
    "    if players[\"player1\"][\"score\"] >= 1000:\n",
    "        players[\"game\"] = \"finished\"\n",
    "        players[\"loser_score\"] = players[\"player2\"][\"score\"]\n",
    "        return players\n",
    "\n",
    "    players[\"player2\"][\"pos\"] += 3*number + 3\n",
    "    players[\"player2\"][\"pos\"] = 10 if players[\"player2\"][\"pos\"]% 10 == 0 else players[\"player2\"][\"pos\"]% 10   \n",
    "    players[\"player2\"][\"score\"] += players[\"player2\"][\"pos\"]\n",
    "    players[\"number\"] = number + 3\n",
    "    if players[\"player2\"][\"score\"] >= 1000:\n",
    "        players[\"game\"] = \"finished\"\n",
    "        players[\"loser_score\"] = players[\"player1\"][\"score\"]\n",
    "        return players\n",
    "    return players\n",
    "    "
   ]
  },
  {
   "cell_type": "code",
   "execution_count": 55,
   "metadata": {},
   "outputs": [
    {
     "name": "stdout",
     "output_type": "stream",
     "text": [
      "dict_keys(['number', 'player1', 'player2', 'game', 'loser_score'])\n",
      "143\n",
      "671580\n"
     ]
    }
   ],
   "source": [
    "game = scores\n",
    "for i in range(1000):\n",
    "    game = (step(game))\n",
    "    #print(game)\n",
    "    if \"game\" in game.keys():\n",
    "        print(game.keys())\n",
    "        print(i)\n",
    "        break\n",
    "game\n",
    "print((game[\"number\"]-1)*game[\"loser_score\"])"
   ]
  },
  {
   "cell_type": "code",
   "execution_count": 3,
   "metadata": {},
   "outputs": [],
   "source": [
    "\n",
    "from functools import lru_cache\n",
    "\n",
    "@lru_cache(maxsize=None)\n",
    "def play_quantum(p1, p2, s1=0, s2=0):\n",
    "    if s2 >= 21:\n",
    "        return 0, 1\n",
    "    win1, win2 = 0, 0\n",
    "    for roll, n in (3, 1), (4, 3), (5, 6), (6, 7), (7, 6), (8, 3), (9, 1):\n",
    "        pos = (p1 + roll) % 10\n",
    "        score = s1 + pos + 1\n",
    "        p2_score, p1_score = play_quantum(p2, pos, s2, score)\n",
    "        win1, win2 = win1 + p1_score * n, win2 + p2_score * n\n",
    "    return win1, win2"
   ]
  },
  {
   "cell_type": "code",
   "execution_count": 6,
   "metadata": {},
   "outputs": [
    {
     "name": "stdout",
     "output_type": "stream",
     "text": [
      "912857726749764\n"
     ]
    }
   ],
   "source": [
    "print(max(play_quantum(6,5)))"
   ]
  }
 ],
 "metadata": {
  "interpreter": {
   "hash": "916dbcbb3f70747c44a77c7bcd40155683ae19c65e1c03b4aa3499c5328201f1"
  },
  "kernelspec": {
   "display_name": "Python 3.8.10 64-bit",
   "language": "python",
   "name": "python3"
  },
  "language_info": {
   "codemirror_mode": {
    "name": "ipython",
    "version": 3
   },
   "file_extension": ".py",
   "mimetype": "text/x-python",
   "name": "python",
   "nbconvert_exporter": "python",
   "pygments_lexer": "ipython3",
   "version": "3.8.10"
  },
  "orig_nbformat": 4
 },
 "nbformat": 4,
 "nbformat_minor": 2
}
